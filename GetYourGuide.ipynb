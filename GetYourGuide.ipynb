{
 "cells": [
  {
   "cell_type": "code",
   "execution_count": 29,
   "metadata": {},
   "outputs": [],
   "source": [
    "import pandas as pd\n",
    "from sklearn.model_selection import ShuffleSplit\n",
    "from sklearn import metrics\n",
    "import numpy as np\n",
    "from sklearn.linear_model import LinearRegression\n",
    "from sklearn.linear_model import SGDRegressor\n",
    "# from sklearn.cross_validation import train_test_split\n",
    "from sklearn.model_selection import train_test_split"
   ]
  },
  {
   "cell_type": "code",
   "execution_count": 3,
   "metadata": {
    "collapsed": true
   },
   "outputs": [],
   "source": [
    "train_set = pd.read_csv(\"train.csv\", delimiter=\",\", parse_dates=True)\n",
    "predict_set = pd.read_csv(\"prediction.csv\", delimiter=\",\", parse_dates=True)"
   ]
  },
  {
   "cell_type": "code",
   "execution_count": 4,
   "metadata": {
    "collapsed": true
   },
   "outputs": [],
   "source": [
    "feature_list = [\"Keyword_ID\",\"Ad_group_ID\",\"Campaign_ID\",\"Account_ID\",\"Device_ID\",\"Match_type_ID\"]"
   ]
  },
  {
   "cell_type": "code",
   "execution_count": 5,
   "metadata": {},
   "outputs": [
    {
     "data": {
      "text/html": [
       "<div>\n",
       "<style>\n",
       "    .dataframe thead tr:only-child th {\n",
       "        text-align: right;\n",
       "    }\n",
       "\n",
       "    .dataframe thead th {\n",
       "        text-align: left;\n",
       "    }\n",
       "\n",
       "    .dataframe tbody tr th {\n",
       "        vertical-align: top;\n",
       "    }\n",
       "</style>\n",
       "<table border=\"1\" class=\"dataframe\">\n",
       "  <thead>\n",
       "    <tr style=\"text-align: right;\">\n",
       "      <th></th>\n",
       "      <th>Keyword_ID</th>\n",
       "      <th>Ad_group_ID</th>\n",
       "      <th>Campaign_ID</th>\n",
       "      <th>Account_ID</th>\n",
       "      <th>Device_ID</th>\n",
       "      <th>Match_type_ID</th>\n",
       "    </tr>\n",
       "  </thead>\n",
       "  <tbody>\n",
       "    <tr>\n",
       "      <th>count</th>\n",
       "      <td>8285423</td>\n",
       "      <td>8285423</td>\n",
       "      <td>8285423</td>\n",
       "      <td>8285423</td>\n",
       "      <td>8285423</td>\n",
       "      <td>8285423</td>\n",
       "    </tr>\n",
       "    <tr>\n",
       "      <th>unique</th>\n",
       "      <td>487981</td>\n",
       "      <td>269480</td>\n",
       "      <td>2927</td>\n",
       "      <td>16</td>\n",
       "      <td>3</td>\n",
       "      <td>3</td>\n",
       "    </tr>\n",
       "    <tr>\n",
       "      <th>top</th>\n",
       "      <td>981509692733</td>\n",
       "      <td>428124648205</td>\n",
       "      <td>919168440848</td>\n",
       "      <td>604905316813</td>\n",
       "      <td>298643508640</td>\n",
       "      <td>95725474456</td>\n",
       "    </tr>\n",
       "    <tr>\n",
       "      <th>freq</th>\n",
       "      <td>5188</td>\n",
       "      <td>8111</td>\n",
       "      <td>325658</td>\n",
       "      <td>2300896</td>\n",
       "      <td>3980401</td>\n",
       "      <td>3754784</td>\n",
       "    </tr>\n",
       "  </tbody>\n",
       "</table>\n",
       "</div>"
      ],
      "text/plain": [
       "          Keyword_ID   Ad_group_ID   Campaign_ID    Account_ID     Device_ID  \\\n",
       "count        8285423       8285423       8285423       8285423       8285423   \n",
       "unique        487981        269480          2927            16             3   \n",
       "top     981509692733  428124648205  919168440848  604905316813  298643508640   \n",
       "freq            5188          8111        325658       2300896       3980401   \n",
       "\n",
       "       Match_type_ID  \n",
       "count        8285423  \n",
       "unique             3  \n",
       "top      95725474456  \n",
       "freq         3754784  "
      ]
     },
     "execution_count": 5,
     "metadata": {},
     "output_type": "execute_result"
    }
   ],
   "source": [
    "train_set[feature_list].astype(str).describe()"
   ]
  },
  {
   "cell_type": "code",
   "execution_count": 6,
   "metadata": {},
   "outputs": [
    {
     "data": {
      "text/html": [
       "<div>\n",
       "<style>\n",
       "    .dataframe thead tr:only-child th {\n",
       "        text-align: right;\n",
       "    }\n",
       "\n",
       "    .dataframe thead th {\n",
       "        text-align: left;\n",
       "    }\n",
       "\n",
       "    .dataframe tbody tr th {\n",
       "        vertical-align: top;\n",
       "    }\n",
       "</style>\n",
       "<table border=\"1\" class=\"dataframe\">\n",
       "  <thead>\n",
       "    <tr style=\"text-align: right;\">\n",
       "      <th></th>\n",
       "      <th>Keyword_ID</th>\n",
       "      <th>Ad_group_ID</th>\n",
       "      <th>Campaign_ID</th>\n",
       "      <th>Account_ID</th>\n",
       "      <th>Device_ID</th>\n",
       "      <th>Match_type_ID</th>\n",
       "    </tr>\n",
       "  </thead>\n",
       "  <tbody>\n",
       "    <tr>\n",
       "      <th>count</th>\n",
       "      <td>578012</td>\n",
       "      <td>578012</td>\n",
       "      <td>578012</td>\n",
       "      <td>578012</td>\n",
       "      <td>578012</td>\n",
       "      <td>578012</td>\n",
       "    </tr>\n",
       "    <tr>\n",
       "      <th>unique</th>\n",
       "      <td>195748</td>\n",
       "      <td>118978</td>\n",
       "      <td>2259</td>\n",
       "      <td>16</td>\n",
       "      <td>3</td>\n",
       "      <td>3</td>\n",
       "    </tr>\n",
       "    <tr>\n",
       "      <th>top</th>\n",
       "      <td>981509692733</td>\n",
       "      <td>501719917851</td>\n",
       "      <td>919168440848</td>\n",
       "      <td>604905316813</td>\n",
       "      <td>298643508640</td>\n",
       "      <td>95725474456</td>\n",
       "    </tr>\n",
       "    <tr>\n",
       "      <th>freq</th>\n",
       "      <td>359</td>\n",
       "      <td>519</td>\n",
       "      <td>23375</td>\n",
       "      <td>176184</td>\n",
       "      <td>283650</td>\n",
       "      <td>264997</td>\n",
       "    </tr>\n",
       "  </tbody>\n",
       "</table>\n",
       "</div>"
      ],
      "text/plain": [
       "          Keyword_ID   Ad_group_ID   Campaign_ID    Account_ID     Device_ID  \\\n",
       "count         578012        578012        578012        578012        578012   \n",
       "unique        195748        118978          2259            16             3   \n",
       "top     981509692733  501719917851  919168440848  604905316813  298643508640   \n",
       "freq             359           519         23375        176184        283650   \n",
       "\n",
       "       Match_type_ID  \n",
       "count         578012  \n",
       "unique             3  \n",
       "top      95725474456  \n",
       "freq          264997  "
      ]
     },
     "execution_count": 6,
     "metadata": {},
     "output_type": "execute_result"
    }
   ],
   "source": [
    "predict_set[feature_list].astype(str).describe()"
   ]
  },
  {
   "cell_type": "code",
   "execution_count": 7,
   "metadata": {},
   "outputs": [
    {
     "name": "stdout",
     "output_type": "stream",
     "text": [
      "<class 'pandas.core.frame.DataFrame'>\n",
      "RangeIndex: 8285423 entries, 0 to 8285422\n",
      "Data columns (total 6 columns):\n",
      "Keyword_ID       int64\n",
      "Ad_group_ID      int64\n",
      "Campaign_ID      int64\n",
      "Account_ID       int64\n",
      "Device_ID        int64\n",
      "Match_type_ID    int64\n",
      "dtypes: int64(6)\n",
      "memory usage: 379.3 MB\n"
     ]
    }
   ],
   "source": [
    "train_set[feature_list].info()"
   ]
  },
  {
   "cell_type": "code",
   "execution_count": 8,
   "metadata": {
    "collapsed": true
   },
   "outputs": [],
   "source": [
    "train_set[\"RPC\"] = train_set[\"Revenue\"].values/train_set[\"Clicks\"].values"
   ]
  },
  {
   "cell_type": "code",
   "execution_count": 9,
   "metadata": {
    "scrolled": true
   },
   "outputs": [
    {
     "data": {
      "text/plain": [
       "count    8.285423e+06\n",
       "mean     5.113287e+01\n",
       "std      7.113045e+02\n",
       "min      0.000000e+00\n",
       "25%      0.000000e+00\n",
       "50%      0.000000e+00\n",
       "75%      0.000000e+00\n",
       "max      5.148236e+05\n",
       "Name: RPC, dtype: float64"
      ]
     },
     "execution_count": 9,
     "metadata": {},
     "output_type": "execute_result"
    }
   ],
   "source": [
    "train_set[\"RPC\"].describe()"
   ]
  },
  {
   "cell_type": "code",
   "execution_count": 10,
   "metadata": {},
   "outputs": [
    {
     "data": {
      "text/html": [
       "<div>\n",
       "<style>\n",
       "    .dataframe thead tr:only-child th {\n",
       "        text-align: right;\n",
       "    }\n",
       "\n",
       "    .dataframe thead th {\n",
       "        text-align: left;\n",
       "    }\n",
       "\n",
       "    .dataframe tbody tr th {\n",
       "        vertical-align: top;\n",
       "    }\n",
       "</style>\n",
       "<table border=\"1\" class=\"dataframe\">\n",
       "  <thead>\n",
       "    <tr style=\"text-align: right;\">\n",
       "      <th></th>\n",
       "      <th>Keyword_ID</th>\n",
       "      <th>Ad_group_ID</th>\n",
       "      <th>Campaign_ID</th>\n",
       "      <th>Account_ID</th>\n",
       "      <th>Device_ID</th>\n",
       "      <th>Match_type_ID</th>\n",
       "    </tr>\n",
       "  </thead>\n",
       "  <tbody>\n",
       "    <tr>\n",
       "      <th>count</th>\n",
       "      <td>8285423</td>\n",
       "      <td>8285423</td>\n",
       "      <td>8285423</td>\n",
       "      <td>8285423</td>\n",
       "      <td>8285423</td>\n",
       "      <td>8285423</td>\n",
       "    </tr>\n",
       "    <tr>\n",
       "      <th>unique</th>\n",
       "      <td>487981</td>\n",
       "      <td>269480</td>\n",
       "      <td>2927</td>\n",
       "      <td>16</td>\n",
       "      <td>3</td>\n",
       "      <td>3</td>\n",
       "    </tr>\n",
       "    <tr>\n",
       "      <th>top</th>\n",
       "      <td>28</td>\n",
       "      <td>240</td>\n",
       "      <td>3</td>\n",
       "      <td>7</td>\n",
       "      <td>0</td>\n",
       "      <td>0</td>\n",
       "    </tr>\n",
       "    <tr>\n",
       "      <th>freq</th>\n",
       "      <td>5188</td>\n",
       "      <td>8111</td>\n",
       "      <td>325658</td>\n",
       "      <td>2300896</td>\n",
       "      <td>3980401</td>\n",
       "      <td>3754784</td>\n",
       "    </tr>\n",
       "  </tbody>\n",
       "</table>\n",
       "</div>"
      ],
      "text/plain": [
       "       Keyword_ID Ad_group_ID Campaign_ID Account_ID Device_ID Match_type_ID\n",
       "count     8285423     8285423     8285423    8285423   8285423       8285423\n",
       "unique     487981      269480        2927         16         3             3\n",
       "top            28         240           3          7         0             0\n",
       "freq         5188        8111      325658    2300896   3980401       3754784"
      ]
     },
     "execution_count": 10,
     "metadata": {},
     "output_type": "execute_result"
    }
   ],
   "source": [
    "df_feature=train_set[feature_list]\n",
    "train_X=df_feature.apply(lambda x : pd.factorize(x)[0])\n",
    "train_X.astype(str).describe()"
   ]
  },
  {
   "cell_type": "code",
   "execution_count": 11,
   "metadata": {},
   "outputs": [],
   "source": [
    "new_train = train_set\n",
    "new_train[feature_list] = train_X\n",
    "\n",
    "# for i in feature_list:\n",
    "#     new_train[i] = train_X[i].astype('category')\n",
    "# new_train = new_train.drop(['Date','Revenue','Clicks','Conversions'],axis=1)\n",
    "# X = new_train[feature_list].drop(['Account_ID','Device_ID','Match_type_ID'],axis=1)\n",
    "\n",
    "# list(new_train)\n",
    "\n",
    "# new_train.to_csv(\"train.csv\",sep=',',index=False)\n",
    "# predict和 train 需要用同一套label 不然肯定出错 \n",
    "# TODO merge label 拆分"
   ]
  },
  {
   "cell_type": "code",
   "execution_count": 12,
   "metadata": {
    "scrolled": true
   },
   "outputs": [
    {
     "name": "stdout",
     "output_type": "stream",
     "text": [
      "<class 'pandas.core.frame.DataFrame'>\n",
      "RangeIndex: 8285423 entries, 0 to 8285422\n",
      "Data columns (total 11 columns):\n",
      "Date             object\n",
      "Keyword_ID       int64\n",
      "Ad_group_ID      int64\n",
      "Campaign_ID      int64\n",
      "Account_ID       int64\n",
      "Device_ID        int64\n",
      "Match_type_ID    int64\n",
      "Revenue          float64\n",
      "Clicks           int64\n",
      "Conversions      int64\n",
      "RPC              float64\n",
      "dtypes: float64(2), int64(8), object(1)\n",
      "memory usage: 695.3+ MB\n"
     ]
    }
   ],
   "source": [
    "new_train.info()"
   ]
  },
  {
   "cell_type": "code",
   "execution_count": 72,
   "metadata": {},
   "outputs": [],
   "source": [
    "X = new_train[['Keyword_ID','Ad_group_ID','Campaign_ID','Account_ID']]\n",
    "y = new_train[['RPC']]"
   ]
  },
  {
   "cell_type": "code",
   "execution_count": 64,
   "metadata": {},
   "outputs": [
    {
     "name": "stdout",
     "output_type": "stream",
     "text": [
      "Iter 1\n",
      "Error 733.220488254\n",
      "Score 0.000277917548473\n",
      "Iter 2\n",
      "Error 762.928518717\n",
      "Score 0.000279769267941\n",
      "Iter 3\n",
      "Error 748.68749086\n",
      "Score 0.000274842967668\n",
      "Iter 4\n",
      "Error 717.704806746\n",
      "Score 0.000314139451022\n",
      "Iter 5\n",
      "Error 691.25895103\n",
      "Score 0.000348050328515\n"
     ]
    }
   ],
   "source": [
    "rs = ShuffleSplit(n_splits=5, test_size=.4)\n",
    "i = 1\n",
    "clf = LinearRegression()\n",
    "for train_index, validate_index in rs.split(X,y):\n",
    "    x_train = X.iloc[train_index]\n",
    "    y_train = np.ravel(y.loc[train_index])\n",
    "    x_validate = X.iloc[validate_index]\n",
    "    y_validate = np.ravel(y.loc[validate_index])\n",
    "    \n",
    "    clf.fit(x_train,y_train)\n",
    "    y_pred = clf.predict(x_validate)\n",
    "    print(\"Iter\",i)\n",
    "    print(\"Error\",np.sqrt(metrics.mean_squared_error(y_validate, y_pred)))\n",
    "    print(\"Score\",clf.score(x_validate,y_validate))\n",
    "    i +=1"
   ]
  },
  {
   "cell_type": "code",
   "execution_count": 73,
   "metadata": {},
   "outputs": [
    {
     "name": "stdout",
     "output_type": "stream",
     "text": [
      "(3314170, 4) (4971253, 4) 3314170\n",
      "Iter 1\n",
      "Error 5.38604019055e+17\n",
      "Score 0.00035875881615\n",
      "(3314170, 4) (4971253, 4) 3314170\n",
      "Iter 2\n",
      "Error 9.30102978366e+17\n",
      "Score 0.00035732815366\n"
     ]
    }
   ],
   "source": [
    "rs = ShuffleSplit(n_splits=2, test_size=.4)\n",
    "i = 1\n",
    "clf = SGDRegressor()\n",
    "for train_index, validate_index in rs.split(X,y):\n",
    "    x_train = X.iloc[train_index]\n",
    "    x_validate = X.iloc[validate_index]\n",
    "    y_train = np.ravel(y.loc[train_index])\n",
    "    y_validate = np.ravel(y.loc[validate_index])\n",
    "\n",
    "    clf.fit(x_train,y_train)\n",
    "    y_pred = clf.predict(x_validate)\n",
    "    print(\"Iter\",i)\n",
    "    print(\"Error\",np.sqrt(metrics.mean_squared_error(y_validate, y_pred)))\n",
    "    print(\"Score\",linreg.score(x_validate,y_validate))\n",
    "    i +=1"
   ]
  }
 ],
 "metadata": {
  "kernelspec": {
   "display_name": "Python 3",
   "language": "python",
   "name": "python3"
  },
  "language_info": {
   "codemirror_mode": {
    "name": "ipython",
    "version": 3
   },
   "file_extension": ".py",
   "mimetype": "text/x-python",
   "name": "python",
   "nbconvert_exporter": "python",
   "pygments_lexer": "ipython3",
   "version": "3.6.1"
  }
 },
 "nbformat": 4,
 "nbformat_minor": 2
}
